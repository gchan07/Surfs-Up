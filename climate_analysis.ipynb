{
 "cells": [
  {
   "cell_type": "code",
   "execution_count": 1,
   "metadata": {},
   "outputs": [],
   "source": [
    "import sqlalchemy\n",
    "from sqlalchemy.ext.automap import automap_base\n",
    "from sqlalchemy.orm import Session\n",
    "from sqlalchemy import create_engine, inspect, func\n",
    "import datetime as dt"
   ]
  },
  {
   "cell_type": "code",
   "execution_count": 2,
   "metadata": {},
   "outputs": [],
   "source": [
    "# Import Matplot lib\n",
    "import matplotlib\n",
    "from matplotlib import style\n",
    "style.use('seaborn')\n",
    "import matplotlib.pyplot as plt"
   ]
  },
  {
   "cell_type": "code",
   "execution_count": 3,
   "metadata": {},
   "outputs": [],
   "source": [
    "import pandas as pd\n",
    "import numpy as np"
   ]
  },
  {
   "cell_type": "code",
   "execution_count": 4,
   "metadata": {},
   "outputs": [],
   "source": [
    "# Create engine using the `hawaii.sqlite` database file\n",
    "engine = create_engine(\"sqlite:///./Resources/hawaii.sqlite\")"
   ]
  },
  {
   "cell_type": "code",
   "execution_count": 5,
   "metadata": {},
   "outputs": [],
   "source": [
    "# Declare a Base using `automap_base()`\n",
    "Base = automap_base()"
   ]
  },
  {
   "cell_type": "code",
   "execution_count": 6,
   "metadata": {},
   "outputs": [],
   "source": [
    "# Use the Base class to reflect the database tables\n",
    "Base.prepare(engine, reflect=True)"
   ]
  },
  {
   "cell_type": "code",
   "execution_count": 7,
   "metadata": {},
   "outputs": [
    {
     "data": {
      "text/plain": [
       "['measurement', 'station']"
      ]
     },
     "execution_count": 7,
     "metadata": {},
     "output_type": "execute_result"
    }
   ],
   "source": [
    "# Print all of the classes mapped to the Base\n",
    "Base.classes.keys()"
   ]
  },
  {
   "cell_type": "code",
   "execution_count": 8,
   "metadata": {},
   "outputs": [
    {
     "data": {
      "text/plain": [
       "['measurement', 'station']"
      ]
     },
     "execution_count": 8,
     "metadata": {},
     "output_type": "execute_result"
    }
   ],
   "source": [
    "#alternatively\n",
    "inspector = inspect(engine)\n",
    "inspector.get_table_names()"
   ]
  },
  {
   "cell_type": "code",
   "execution_count": 9,
   "metadata": {},
   "outputs": [],
   "source": [
    "# Assign the Measurement class to a variable called `Measurement`\n",
    "Measurement = Base.classes.measurement"
   ]
  },
  {
   "cell_type": "code",
   "execution_count": 10,
   "metadata": {},
   "outputs": [],
   "source": [
    "# Assign the Station class to a variable called `Station`\n",
    "Station = Base.classes.station"
   ]
  },
  {
   "cell_type": "code",
   "execution_count": 11,
   "metadata": {},
   "outputs": [],
   "source": [
    "# Create a session\n",
    "session = Session(engine)"
   ]
  },
  {
   "cell_type": "code",
   "execution_count": 12,
   "metadata": {},
   "outputs": [
    {
     "name": "stdout",
     "output_type": "stream",
     "text": [
      "2017-05-09\n"
     ]
    }
   ],
   "source": [
    "###Precipitation Analysis\n",
    "year_ago = dt.date.today() - dt.timedelta(days=365)\n",
    "print(year_ago)"
   ]
  },
  {
   "cell_type": "code",
   "execution_count": 64,
   "metadata": {},
   "outputs": [],
   "source": [
    "results = session.query(Measurement.date, Measurement.prcp).\\\n",
    "    filter(Measurement.date > year_ago).\\\n",
    "    order_by(Measurement.date).all()"
   ]
  },
  {
   "cell_type": "code",
   "execution_count": 14,
   "metadata": {},
   "outputs": [
    {
     "data": {
      "text/html": [
       "<div>\n",
       "<style scoped>\n",
       "    .dataframe tbody tr th:only-of-type {\n",
       "        vertical-align: middle;\n",
       "    }\n",
       "\n",
       "    .dataframe tbody tr th {\n",
       "        vertical-align: top;\n",
       "    }\n",
       "\n",
       "    .dataframe thead th {\n",
       "        text-align: right;\n",
       "    }\n",
       "</style>\n",
       "<table border=\"1\" class=\"dataframe\">\n",
       "  <thead>\n",
       "    <tr style=\"text-align: right;\">\n",
       "      <th></th>\n",
       "      <th>prcp</th>\n",
       "    </tr>\n",
       "    <tr>\n",
       "      <th>date</th>\n",
       "      <th></th>\n",
       "    </tr>\n",
       "  </thead>\n",
       "  <tbody>\n",
       "    <tr>\n",
       "      <th>2017-05-09</th>\n",
       "      <td>1.62</td>\n",
       "    </tr>\n",
       "    <tr>\n",
       "      <th>2017-05-09</th>\n",
       "      <td>0.52</td>\n",
       "    </tr>\n",
       "    <tr>\n",
       "      <th>2017-05-09</th>\n",
       "      <td>0.68</td>\n",
       "    </tr>\n",
       "    <tr>\n",
       "      <th>2017-05-09</th>\n",
       "      <td>1.58</td>\n",
       "    </tr>\n",
       "    <tr>\n",
       "      <th>2017-05-09</th>\n",
       "      <td>0.23</td>\n",
       "    </tr>\n",
       "  </tbody>\n",
       "</table>\n",
       "</div>"
      ],
      "text/plain": [
       "            prcp\n",
       "date            \n",
       "2017-05-09  1.62\n",
       "2017-05-09  0.52\n",
       "2017-05-09  0.68\n",
       "2017-05-09  1.58\n",
       "2017-05-09  0.23"
      ]
     },
     "execution_count": 14,
     "metadata": {},
     "output_type": "execute_result"
    }
   ],
   "source": [
    "precipitation_df =pd.DataFrame(results, columns = ['date','prcp'])\n",
    "precipitation_df.set_index('date', inplace = True)\n",
    "precipitation_df.head()"
   ]
  },
  {
   "cell_type": "code",
   "execution_count": 15,
   "metadata": {},
   "outputs": [
    {
     "data": {
      "text/plain": [
       "Text(0,0.5,'Precipitation')"
      ]
     },
     "execution_count": 15,
     "metadata": {},
     "output_type": "execute_result"
    },
    {
     "data": {
      "image/png": "[encoded data removed]",
      "text/plain": [
       "<matplotlib.figure.Figure at 0x174c1fb0b70>"
      ]
     },
     "metadata": {},
     "output_type": "display_data"
    }
   ],
   "source": [
    "plt.bar(precipitation_df.index, precipitation_df['prcp'])\n",
    "plt.xticks(rotation=45)\n",
    "plt.xlabel(\"Date\")\n",
    "plt.ylabel(\"Precipitation\")"
   ]
  },
  {
   "cell_type": "code",
   "execution_count": 16,
   "metadata": {},
   "outputs": [
    {
     "name": "stdout",
     "output_type": "stream",
     "text": [
      "             prcp\n",
      "count  550.000000\n",
      "mean     0.127545\n",
      "std      0.301223\n",
      "min      0.000000\n",
      "25%      0.000000\n",
      "50%      0.020000\n",
      "75%      0.120000\n",
      "max      4.000000\n"
     ]
    }
   ],
   "source": [
    "summary = precipitation_df.describe()\n",
    "print(summary)"
   ]
  },
  {
   "cell_type": "code",
   "execution_count": 17,
   "metadata": {},
   "outputs": [
    {
     "name": "stdout",
     "output_type": "stream",
     "text": [
      "9\n"
     ]
    }
   ],
   "source": [
    "###Station Analysis\n",
    "#query for total number of stations\n",
    "num_station = session.query(Station.station).count()\n",
    "print(num_station)"
   ]
  },
  {
   "cell_type": "code",
   "execution_count": 18,
   "metadata": {},
   "outputs": [
    {
     "data": {
      "text/plain": [
       "[('USC00519281', 2772),\n",
       " ('USC00513117', 2696),\n",
       " ('USC00519397', 2685),\n",
       " ('USC00519523', 2572),\n",
       " ('USC00516128', 2484),\n",
       " ('USC00514830', 1937),\n",
       " ('USC00511918', 1932),\n",
       " ('USC00517948', 683),\n",
       " ('USC00518838', 342)]"
      ]
     },
     "execution_count": 18,
     "metadata": {},
     "output_type": "execute_result"
    }
   ],
   "source": [
    "#list the stations and observation counts in descending orders\n",
    "sel = [Measurement.station, func.count(Measurement.tobs)]\n",
    "active_station = session.query(*sel).\\\n",
    "            group_by(Measurement.station).\\\n",
    "            order_by(func.count(Measurement.tobs).desc()).all()\n",
    "active_station"
   ]
  },
  {
   "cell_type": "code",
   "execution_count": 19,
   "metadata": {},
   "outputs": [
    {
     "name": "stdout",
     "output_type": "stream",
     "text": [
      "USC00513117\n"
     ]
    }
   ],
   "source": [
    "#selection station with the highest number of observations\n",
    "highest_observation = (active_station[1])\n",
    "print(highest_observation[0])"
   ]
  },
  {
   "cell_type": "code",
   "execution_count": 20,
   "metadata": {},
   "outputs": [
    {
     "data": {
      "text/plain": [
       "[(74),\n",
       " (75),\n",
       " (74),\n",
       " (74),\n",
       " (75),\n",
       " (75),\n",
       " (75),\n",
       " (75),\n",
       " (75),\n",
       " (70),\n",
       " (70),\n",
       " (72),\n",
       " (72),\n",
       " (76),\n",
       " (73),\n",
       " (75),\n",
       " (69),\n",
       " (73),\n",
       " (69),\n",
       " (71),\n",
       " (71),\n",
       " (74),\n",
       " (76),\n",
       " (76),\n",
       " (76),\n",
       " (76),\n",
       " (78),\n",
       " (76),\n",
       " (75),\n",
       " (75),\n",
       " (76),\n",
       " (78),\n",
       " (75),\n",
       " (73),\n",
       " (76),\n",
       " (76),\n",
       " (76),\n",
       " (77),\n",
       " (76),\n",
       " (77),\n",
       " (72),\n",
       " (77),\n",
       " (75),\n",
       " (82),\n",
       " (77),\n",
       " (76),\n",
       " (74),\n",
       " (73),\n",
       " (77),\n",
       " (77),\n",
       " (77),\n",
       " (76),\n",
       " (74),\n",
       " (76),\n",
       " (77),\n",
       " (77),\n",
       " (77),\n",
       " (77),\n",
       " (76),\n",
       " (77),\n",
       " (76),\n",
       " (76),\n",
       " (79),\n",
       " (76),\n",
       " (78),\n",
       " (76),\n",
       " (80),\n",
       " (79),\n",
       " (76),\n",
       " (75),\n",
       " (78),\n",
       " (78),\n",
       " (78),\n",
       " (78),\n",
       " (78),\n",
       " (75),\n",
       " (78),\n",
       " (78),\n",
       " (78),\n",
       " (77),\n",
       " (77),\n",
       " (78),\n",
       " (78),\n",
       " (77)]"
      ]
     },
     "execution_count": 20,
     "metadata": {},
     "output_type": "execute_result"
    }
   ],
   "source": [
    "#design a query to retrieve the last 12 months of temperature observation data (tobs), filter by the station with the highest number of observations\n",
    "results = session.query(Measurement.tobs).\\\n",
    "    filter(Measurement.date > year_ago).\\\n",
    "    filter(Measurement.station == highest_observation[0]).\\\n",
    "    order_by(Measurement.date).all()\n",
    "\n",
    "results\n"
   ]
  },
  {
   "cell_type": "code",
   "execution_count": 21,
   "metadata": {},
   "outputs": [
    {
     "data": {
      "text/plain": [
       "[74,\n",
       " 75,\n",
       " 74,\n",
       " 74,\n",
       " 75,\n",
       " 75,\n",
       " 75,\n",
       " 75,\n",
       " 75,\n",
       " 70,\n",
       " 70,\n",
       " 72,\n",
       " 72,\n",
       " 76,\n",
       " 73,\n",
       " 75,\n",
       " 69,\n",
       " 73,\n",
       " 69,\n",
       " 71,\n",
       " 71,\n",
       " 74,\n",
       " 76,\n",
       " 76,\n",
       " 76,\n",
       " 76,\n",
       " 78,\n",
       " 76,\n",
       " 75,\n",
       " 75,\n",
       " 76,\n",
       " 78,\n",
       " 75,\n",
       " 73,\n",
       " 76,\n",
       " 76,\n",
       " 76,\n",
       " 77,\n",
       " 76,\n",
       " 77,\n",
       " 72,\n",
       " 77,\n",
       " 75,\n",
       " 82,\n",
       " 77,\n",
       " 76,\n",
       " 74,\n",
       " 73,\n",
       " 77,\n",
       " 77,\n",
       " 77,\n",
       " 76,\n",
       " 74,\n",
       " 76,\n",
       " 77,\n",
       " 77,\n",
       " 77,\n",
       " 77,\n",
       " 76,\n",
       " 77,\n",
       " 76,\n",
       " 76,\n",
       " 79,\n",
       " 76,\n",
       " 78,\n",
       " 76,\n",
       " 80,\n",
       " 79,\n",
       " 76,\n",
       " 75,\n",
       " 78,\n",
       " 78,\n",
       " 78,\n",
       " 78,\n",
       " 78,\n",
       " 75,\n",
       " 78,\n",
       " 78,\n",
       " 78,\n",
       " 77,\n",
       " 77,\n",
       " 78,\n",
       " 78,\n",
       " 77]"
      ]
     },
     "execution_count": 21,
     "metadata": {},
     "output_type": "execute_result"
    }
   ],
   "source": [
    "tobs = list(np.ravel(results))\n",
    "tobs"
   ]
  },
  {
   "cell_type": "code",
   "execution_count": 22,
   "metadata": {},
   "outputs": [
    {
     "data": {
      "image/png": "[encoded data removed]",
      "text/plain": [
       "<matplotlib.figure.Figure at 0x174c24cd438>"
      ]
     },
     "metadata": {},
     "output_type": "display_data"
    }
   ],
   "source": [
    "bins = 12\n",
    "plt.hist(tobs, bins)\n",
    "plt.ylabel(\"Frequency\")\n",
    "plt.xlabel(\"Temperature\")\n",
    "plt.tight_layout()\n"
   ]
  },
  {
   "cell_type": "code",
   "execution_count": 50,
   "metadata": {},
   "outputs": [],
   "source": [
    "###Temperature Analysis\n",
    "\n",
    "def calc_temps():\n",
    "    start_date = input(\"Start Date in %y-%m-%d\")\n",
    "    end_date = input(\"End Date in %y-%m-%d\")\n",
    "    sel = [func.min(Measurement.tobs),\n",
    "           func.max(Measurement.tobs),\n",
    "           func.avg(Measurement.tobs)]    \n",
    "    results = session.query(*sel).\\\n",
    "    filter(Measurement.date > start_date).\\\n",
    "    filter(Measurement.date < end_date).\\\n",
    "    order_by(Measurement.date).all()\n",
    "    print(results[0])"
   ]
  },
  {
   "cell_type": "code",
   "execution_count": 51,
   "metadata": {},
   "outputs": [
    {
     "name": "stdout",
     "output_type": "stream",
     "text": [
      "Start Date in %y-%m-%d2017-02-16\n",
      "End Date in %y-%m-%d2017-02-25\n",
      "(65, 77, 70.64)\n"
     ]
    }
   ],
   "source": [
    "calc_temps()"
   ]
  },
  {
   "cell_type": "code",
   "execution_count": 52,
   "metadata": {},
   "outputs": [
    {
     "name": "stdout",
     "output_type": "stream",
     "text": [
      "Start Date in %y-%m-%d2016-02-16\n",
      "End Date in %y-%m-%d2016-02-25\n",
      "(60, 76, 70.14583333333333)\n"
     ]
    }
   ],
   "source": [
    "calc_temps()"
   ]
  },
  {
   "cell_type": "code",
   "execution_count": 54,
   "metadata": {},
   "outputs": [
    {
     "data": {
      "text/html": [
       "<div>\n",
       "<style scoped>\n",
       "    .dataframe tbody tr th:only-of-type {\n",
       "        vertical-align: middle;\n",
       "    }\n",
       "\n",
       "    .dataframe tbody tr th {\n",
       "        vertical-align: top;\n",
       "    }\n",
       "\n",
       "    .dataframe thead th {\n",
       "        text-align: right;\n",
       "    }\n",
       "</style>\n",
       "<table border=\"1\" class=\"dataframe\">\n",
       "  <thead>\n",
       "    <tr style=\"text-align: right;\">\n",
       "      <th></th>\n",
       "      <th>min_temp</th>\n",
       "      <th>max_temp</th>\n",
       "      <th>avg_temp</th>\n",
       "    </tr>\n",
       "  </thead>\n",
       "  <tbody>\n",
       "    <tr>\n",
       "      <th>0</th>\n",
       "      <td>61</td>\n",
       "      <td>77</td>\n",
       "      <td>70.238095</td>\n",
       "    </tr>\n",
       "  </tbody>\n",
       "</table>\n",
       "</div>"
      ],
      "text/plain": [
       "   min_temp  max_temp   avg_temp\n",
       "0        61        77  70.238095"
      ]
     },
     "execution_count": 54,
     "metadata": {},
     "output_type": "execute_result"
    }
   ],
   "source": [
    "df = pd.DataFrame(results, columns=['min_temp', 'max_temp', 'avg_temp'])\n",
    "df"
   ]
  },
  {
   "cell_type": "code",
   "execution_count": 63,
   "metadata": {},
   "outputs": [
    {
     "data": {
      "text/plain": [
       "<matplotlib.axes._subplots.AxesSubplot at 0x174c3dd1c50>"
      ]
     },
     "execution_count": 63,
     "metadata": {},
     "output_type": "execute_result"
    },
    {
     "data": {
      "image/png": "[encoded data removed]",
      "text/plain": [
       "<matplotlib.figure.Figure at 0x174c3dc9cc0>"
      ]
     },
     "metadata": {},
     "output_type": "display_data"
    }
   ],
   "source": [
    "#Use the average temperature as the bar height.\n",
    "#Use the peak-to-peak (tmax-tmin) value as the y error bar (yerr).\n",
    "\n",
    "df.plot(kind='bar',stacked = True, yerr = df['max_temp']-df['min_temp'])"
   ]
  },
  {
   "cell_type": "code",
   "execution_count": null,
   "metadata": {},
   "outputs": [],
   "source": []
  }
 ],
 "metadata": {
  "kernelspec": {
   "display_name": "Python 3",
   "language": "python",
   "name": "python3"
  },
  "language_info": {
   "codemirror_mode": {
    "name": "ipython",
    "version": 3
   },
   "file_extension": ".py",
   "mimetype": "text/x-python",
   "name": "python",
   "nbconvert_exporter": "python",
   "pygments_lexer": "ipython3",
   "version": "3.6.4"
  }
 },
 "nbformat": 4,
 "nbformat_minor": 2
}
